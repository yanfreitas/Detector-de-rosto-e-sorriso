{
 "cells": [
  {
   "cell_type": "code",
   "execution_count": null,
   "metadata": {},
   "outputs": [],
   "source": [
    "import cv2"
   ]
  },
  {
   "cell_type": "code",
   "execution_count": null,
   "metadata": {},
   "outputs": [],
   "source": [
    "# Arquivo para identificar parte frontal do rosto\n",
    "face_cascade = cv2.CascadeClassifier('haarcascade_frontalface_alt2.xml')\n",
    "# Arquivo para identificar o sorriso\n",
    "smile_cascade = cv2.CascadeClassifier('haarcascade_smile.xml')\n",
    "\n",
    "# variavel para captura pela webcan\n",
    "cap = cv2.VideoCapture(0)\n",
    "\n",
    "# variavel para escrita de video\n",
    "out = cv2.VideoWriter('facial-recognition.avi', cv2.VideoWriter_fourcc(*'XVID'), 24.0, (640, 480))\n",
    "\n",
    "# plota o retangulo na tela\n",
    "def retangulo(captura, coord_inicial, coord_final_x, coord_final_y, cor, espessura):\n",
    "    return cv2.rectangle(captura, coord_inicial, (coord_final_x, coord_final_y), cor, espessura)"
   ]
  },
  {
   "cell_type": "code",
   "execution_count": null,
   "metadata": {},
   "outputs": [],
   "source": [
    "while True:\n",
    "    # captura frame por frame\n",
    "    ret, frame = cap.read()\n",
    "\n",
    "    # converte para cinza - melhora o desempenho do reconhecimento\n",
    "    gray = cv2.cvtColor(frame, cv2.COLOR_BGR2GRAY)\n",
    "\n",
    "    # detecta e especifica a escala da face\n",
    "    faces = face_cascade.detectMultiScale(gray, scaleFactor=1.1, minNeighbors=5)\n",
    "    for (x, y, w, h) in faces:\n",
    "        # em cinza - com coordenadas\n",
    "        zi_gray_face = gray[(y - 25):y + (h + 35), x:x + (w - 20)]  # zi = zona de interesse = rosto\n",
    "        # com cor - com coordenadas\n",
    "        zi_color_face = frame[(y - 25):y + (h + 35), x:x + (w - 20)]\n",
    "\n",
    "        retangulo(frame, (x, y), (x + w), (y + h), (255, 0, 0), 2)\n",
    "\n",
    "        # detecta e especifica a escala do sorriso\n",
    "        smile = smile_cascade.detectMultiScale(zi_gray_face, scaleFactor=1.8, minNeighbors=35)\n",
    "\n",
    "        for (a, b, c, d) in smile:\n",
    "            zi_gray_smile = gray[a:a + c, b:b + d]  # zi = zona de interesse = sorriso\n",
    "\n",
    "            retangulo(zi_color_face, (a, b), (a + c), (b + d), (255, 255, 0), 2)\n",
    "\n",
    "            # escrevendo texto acoplado na zona de interesse(ri) do rosto\n",
    "            cv2.putText(zi_color_face, 'SORRINDO', (a, d), cv2.FONT_HERSHEY_SIMPLEX, 0.5, (255, 255, 0))\n",
    "\n",
    "    out.write(frame)\n",
    "\n",
    "    # exibe o resultado\n",
    "    cv2.imshow('frame', frame)\n",
    "    # termina o programa com a tecla 'x'\n",
    "    if cv2.waitKey(20) & 0xFF == ord('x'):\n",
    "        break\n",
    "    elif cv2.waitKey(20) & 0xFF == ord('x'.upper()):\n",
    "        break\n",
    "\n",
    "\n",
    "# libera a captura\n",
    "cap.release()\n",
    "# libera a filmagem de video\n",
    "out.release()\n",
    "# destroi todas as janelas\n",
    "cv2.destroyAllWindows()"
   ]
  }
 ],
 "metadata": {
  "kernelspec": {
   "display_name": "Python 3",
   "language": "python",
   "name": "python3"
  },
  "language_info": {
   "codemirror_mode": {
    "name": "ipython",
    "version": 3
   },
   "file_extension": ".py",
   "mimetype": "text/x-python",
   "name": "python",
   "nbconvert_exporter": "python",
   "pygments_lexer": "ipython3",
   "version": "3.7.4"
  }
 },
 "nbformat": 4,
 "nbformat_minor": 2
}
